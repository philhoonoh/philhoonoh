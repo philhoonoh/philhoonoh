{
 "cells": [
  {
   "cell_type": "markdown",
   "id": "8dbf6f10",
   "metadata": {},
   "source": [
    "# MinIO"
   ]
  },
  {
   "cell_type": "markdown",
   "id": "f14e8703",
   "metadata": {},
   "source": [
    "> In this document, we are going to explain MinIO, Open Source object storage server.\n",
    "\n",
    "> Contents\n",
    "    > 1. What is MinIO  \n",
    "    > 2. MinIO Components\n",
    "    > 3. Usuage\n",
    "    > 4. Conclusion"
   ]
  },
  {
   "cell_type": "markdown",
   "id": "9e69325b",
   "metadata": {},
   "source": [
    "# 1. What is MinIO?\n",
    "\n",
    "### Official Website\n",
    "MinIO offers high-performance, S3 compatible object storage. Native to Kubernetes, MinIO is the only object storage suite available on every public cloud, every Kubernetes distribution, the private cloud and the edge. MinIO\n",
    "is software-defined and is 100% open source under GNU AGPL v3.\n",
    "### Wikipedia\n",
    "MinIO is a High Performance Object Storage released under GNU Affero General Public License v3.0. It is API compatible with Amazon S3 cloud storage service. It can handle unstructured data such as photos, videos, log files, backups, and container images with (currently) the maximum supported object size of 5TB.\n",
    "\n",
    "### Summary \n",
    "1. Object storage \n",
    "    - We can think of it as cloud server storage provided by CSPs(Cloud Service Provider)\n",
    "    - AWS : S3, Azure : Blob Storage, GCP : GCS\n",
    "    - ; however, tt can be installed by personal desktop or server\n",
    "    \n",
    "    \n",
    "2. S3 compatible\n",
    "    - It offers S3 compatible APIs\n",
    "    - MinIO is a solution for cases when people do not want to use public cloud services but just want to exploit its applications.\n",
    "    \n",
    "#### TL;DR : “It’s like Amazon S3, but hosted locally.”"
   ]
  },
  {
   "cell_type": "markdown",
   "id": "cffa0008",
   "metadata": {},
   "source": [
    "# 2. MinIO Components \n",
    "Since it is a independently managed object storage, it is similar to other Database Systems. In other words, it has Server component and Client component.\n",
    "\n",
    "- __MinIO Server__\n",
    "    - location where files, images are stored\n",
    "    - easy to install on Docker environment \n",
    "    - easy to install on Cloud using k8s(kubernetics) \n",
    "\n",
    "\n",
    "- __Minio Client__\n",
    "    - Client for users to access object in MinIO server \n",
    "    - Think of it as pymongo api in python  \n"
   ]
  },
  {
   "cell_type": "markdown",
   "id": "10efcfa0",
   "metadata": {},
   "source": [
    "# 3. Usuage  \n",
    "This section might include personal opinions. \n",
    "\n",
    "- Security\n",
    "    - When it comes to sensitive data such as personal information, medical history, there are legal regulations that prevent using public cloud storage. For those cases, MinIO could be a secure alternative to manage data more easily by leveraging existing S3 APIs and at the same time fulfills the safety concerns\n",
    "    \n",
    "    \n",
    "- Compatibility \n",
    "    - Since it is S3 compatible, we can always migrate to S3 after tested on MinIO. \n",
    "    - Systematic back-up between S3 and MinIO can offer physically isolated back-up storage\n",
    "\n",
    "\n",
    "- Management \n",
    "    - We can easily access the data using http interface\n",
    "    - Easily scaling up the storage volume using k8s"
   ]
  },
  {
   "cell_type": "markdown",
   "id": "932a2fc8",
   "metadata": {},
   "source": [
    "# 4. Conclusion\n",
    "This section includes personl opinions about adopting MinIO in xFact Lab\n",
    "\n",
    "- Huggingface Transformers uses S3 for downloading models & configurations. By using MinIO, similar enviroment can be set-up locally. \n",
    "- For the lab, if we didn't have NFS system and transferred files between desktops and servers, MinIO could be a option.\n",
    "- However, current NFS system is better than MinIo in terms of Latency to share models among members in the lab. \n",
    "- Also we can simply upload model to huggingface website if we want to share it others. \n",
    "- Unless we are dealing with huge dataset that needed to be scaled up easily, NFS is better."
   ]
  },
  {
   "cell_type": "markdown",
   "id": "3082d665",
   "metadata": {},
   "source": [
    "### Reference\n",
    "[MinIO](https://min.io/)  \n",
    "[Minio – The secure alternative to Amazon S3 for object storage\n",
    "](https://www.univention.com/blog-en/2018/03/minio-the-secure-alternative-to-amazon-s3-for-object-storage/)  \n",
    "[Object vs File Storage: When and Why to Use Them](https://blog.purestorage.com/purely-informational/object-vs-file-storage-when-and-why-to-use-them/)  \n",
    "[MinIO Wiki](https://en.wikipedia.org/wiki/MinIO)"
   ]
  }
 ],
 "metadata": {
  "kernelspec": {
   "display_name": "py38_transformers",
   "language": "python",
   "name": "py38"
  },
  "language_info": {
   "codemirror_mode": {
    "name": "ipython",
    "version": 3
   },
   "file_extension": ".py",
   "mimetype": "text/x-python",
   "name": "python",
   "nbconvert_exporter": "python",
   "pygments_lexer": "ipython3",
   "version": "3.8.12"
  }
 },
 "nbformat": 4,
 "nbformat_minor": 5
}
