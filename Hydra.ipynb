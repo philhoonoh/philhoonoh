{
 "cells": [
  {
   "cell_type": "markdown",
   "id": "8dbf6f10",
   "metadata": {},
   "source": [
    "# Hydra"
   ]
  },
  {
   "cell_type": "markdown",
   "id": "f14e8703",
   "metadata": {},
   "source": [
    "> In this document, we are going to explain Hydra, open source python framework for hiearchical configuration.\n",
    "\n",
    "> Contents\n",
    "    > 1. What is Hydra. \n",
    "    > 2. Hydra features\n",
    "    > 3. Usuage\n",
    "    > 4. Conclusion"
   ]
  },
  {
   "cell_type": "markdown",
   "id": "9e69325b",
   "metadata": {},
   "source": [
    "# 1. What is Hydra?\n",
    "\n",
    "### Official Website\n",
    "Hydra is an open-source Python framework that simplifies the development of research and other complex applications. The key feature is the ability to dynamically create a hierarchical configuration by composition and override it through config files and the command line. The name Hydra comes from its ability to run multiple similar jobs - much like a Hydra with multiple heads.\n",
    "  \n",
    "### Summary \n",
    "- ELI5(Explain Like I'm 5) excerpted from Youtube comment : ArgParse on steriods, with multiple functionalities such as config files,changing ,saving config files and much more ."
   ]
  },
  {
   "cell_type": "markdown",
   "id": "040cf73f",
   "metadata": {},
   "source": [
    "# 2. Features\n",
    "- Hierarchical configuration composable from multiple sources\n",
    "    - using .yaml file \n",
    "- Configuration can be specified or overridden from the command line\n",
    "    - also dynamically change variables using OmegaConf's variable interpolation syntax  "
   ]
  },
  {
   "cell_type": "markdown",
   "id": "fa02fc08",
   "metadata": {},
   "source": [
    "```python\n",
    "# config.yaml \n",
    "defaults:\n",
    "  - dataset: imagenet\n",
    "  - model: alexnet\n",
    "  - optional dataset_model: ${dataset}_${model}\n",
    "```"
   ]
  },
  {
   "cell_type": "markdown",
   "id": "5cd9c690",
   "metadata": {},
   "source": [
    "- Dynamic command line tab completion\n",
    "- Run your application locally or launch it to run remotely\n",
    "    - using Ray Launcher plugin, run the code on AWS \n",
    "- Run multiple jobs with different arguments with a single command\n",
    "    - Run multiple jobs in parallel mode"
   ]
  },
  {
   "cell_type": "markdown",
   "id": "10efcfa0",
   "metadata": {},
   "source": [
    "# 3. Usuage  \n",
    "This section might include personal opinions. \n",
    "\n",
    "- Configurations \n",
    "    - Hydra is a powerful configuration framework. Not only for deep learning, but also it can be applicable to other applications such as Databases, Web Applications.\n",
    "\n",
    "- Management \n",
    "    - provide easy logging\n",
    "    - provide detail configuration settings by providing \n",
    "        - config.yaml: A dump of the user specified configuration\n",
    "        - hydra.yaml: A dump of the Hydra configuration\n",
    "        - overrides.yaml: The command line overrides used\n",
    "        \n",
    "- Multi-run\n",
    "    - Useful for parameter searching"
   ]
  },
  {
   "cell_type": "markdown",
   "id": "932a2fc8",
   "metadata": {},
   "source": [
    "# 4. Conclusion\n",
    "This section includes personal opinions about using Hydra\n",
    "\n",
    "- When using Huggingface Transformers, it provides HfArgumentParser for configurations such as\n",
    "    - ModelArguments\n",
    "    - DataTrainingArguments\n",
    "    - TrainingArguments\n",
    "- HfArgumentParser is simliar to Hydra, specified for Transformers library. \n",
    "    - Of course, one can make hydra version of HfArgumentParser and HfArgumentParser version of hydra.\n",
    "    - HfArgumentParser, Hydra all based on using dataclasses in python\n",
    "    - It depends on user's preference\n",
    "- But for the other cases such as setting-up the applications, databases or using facebook library\n",
    "    - Hydra look like a better option\n",
    "- Recommendation\n",
    "    - For huggingface transformers, use HfArgumentParser\n",
    "    - For other cases, use Hydra\n",
    "    - Or user's choice"
   ]
  },
  {
   "cell_type": "markdown",
   "id": "3082d665",
   "metadata": {},
   "source": [
    "### Reference\n",
    "[Hydra](https://hydra.cc/docs/intro/)  \n",
    "[Explain Like I'm 5: Hydra](https://www.youtube.com/watch?v=Slc3gRQpnBI)  \n",
    "[Configuration Management For Data Science Made Easy With Hydra](https://www.youtube.com/watch?v=tEsPyYnzt8s)   \n",
    "[Github](https://github.com/facebookresearch/hydra)"
   ]
  }
 ],
 "metadata": {
  "kernelspec": {
   "display_name": "py38_transformers",
   "language": "python",
   "name": "py38"
  },
  "language_info": {
   "codemirror_mode": {
    "name": "ipython",
    "version": 3
   },
   "file_extension": ".py",
   "mimetype": "text/x-python",
   "name": "python",
   "nbconvert_exporter": "python",
   "pygments_lexer": "ipython3",
   "version": "3.8.12"
  }
 },
 "nbformat": 4,
 "nbformat_minor": 5
}
